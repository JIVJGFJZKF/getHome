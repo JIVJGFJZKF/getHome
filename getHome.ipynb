{
 "cells": [
  {
   "cell_type": "code",
   "execution_count": 1,
   "metadata": {},
   "outputs": [],
   "source": [
    "import pandas as pd\n",
    "import baseFunctions"
   ]
  },
  {
   "cell_type": "code",
   "execution_count": 3,
   "metadata": {},
   "outputs": [
    {
     "name": "stdout",
     "output_type": "stream",
     "text": [
      "ID                       float64\n",
      "Overall Rating            object\n",
      "State Ranking            float64\n",
      "School Name               object\n",
      "County                    object\n",
      "School/Rating Link        object\n",
      "City                      object\n",
      "School Address            object\n",
      "Student Population       float64\n",
      "Student Teacher Ratio     object\n",
      "Math Proficiency         float64\n",
      "Reading Proficiency      float64\n",
      "Count                    float64\n",
      "URLRating                 object\n",
      "URLHomeSearch             object\n",
      "SortOrder                  int64\n",
      "Homes for Sale*            int64\n",
      "Map Link                  object\n",
      "isSelected               float64\n",
      "dtype: object\n",
      "(29, 19)\n"
     ]
    }
   ],
   "source": [
    "dfRaw = pd.read_excel('./ElementarySchools.xlsx')\n",
    "print(dfRaw.dtypes)\n",
    "print(dfRaw.shape)"
   ]
  },
  {
   "cell_type": "markdown",
   "metadata": {},
   "source": [
    "# Setup"
   ]
  },
  {
   "cell_type": "code",
   "execution_count": 4,
   "metadata": {},
   "outputs": [],
   "source": [
    "def getContent():\n",
    "    dfRaw['ResponseHTML'] = [baseFunctions.getContentHTML(x) for x in dfRaw['URLHomeSearch']]\n",
    "    dfRaw['ResponseSoup'] = [baseFunctions.getContentSoup(x) for x in dfRaw['ResponseHTML']]\n",
    "    dfValues = pd.DataFrame()\n",
    "    for index, row in dfRaw.iterrows():\n",
    "        dfTmp = baseFunctions.getHomeDF(row)\n",
    "        dfValues = pd.concat([dfValues, dfTmp])\n",
    "    return(dfValues)"
   ]
  },
  {
   "cell_type": "markdown",
   "metadata": {},
   "source": [
    "# Get Home Data"
   ]
  },
  {
   "cell_type": "code",
   "execution_count": 5,
   "metadata": {},
   "outputs": [],
   "source": [
    "valFile = './HistoricalValues.xlsx'\n",
    "dfValuesHistory = pd.read_excel(valFile)"
   ]
  },
  {
   "cell_type": "code",
   "execution_count": 6,
   "metadata": {},
   "outputs": [
    {
     "name": "stdout",
     "output_type": "stream",
     "text": [
      "(149, 9)\n",
      "ERROR: URL = nan\n",
      "ERROR: URL = nan\n",
      "ERROR: URL = nan\n",
      "ERROR: URL = nan\n",
      "ERROR: URL = nan\n",
      "ERROR: URL = nan\n",
      "ERROR: URL = nan\n",
      "ERROR: URL = nan\n",
      "ERROR: URL = nan\n",
      "ERROR: URL = nan\n",
      "ERROR: URL = nan\n",
      "ERROR: URL = nan\n",
      "ERROR: URL = nan\n",
      "ERROR: URL = nan\n",
      "(72, 9)\n",
      "(221, 9)\n"
     ]
    }
   ],
   "source": [
    "print(dfValuesHistory.shape)\n",
    "dfValues = getContent()\n",
    "print(dfValues.shape)\n",
    "dfValuesHistory = dfValuesHistory.append(dfValues)\n",
    "print(dfValuesHistory.shape)"
   ]
  },
  {
   "cell_type": "code",
   "execution_count": 9,
   "metadata": {},
   "outputs": [],
   "source": [
    "dfValuesHistory.to_excel(valFile)"
   ]
  },
  {
   "cell_type": "markdown",
   "metadata": {},
   "source": [
    "# Plots"
   ]
  },
  {
   "cell_type": "code",
   "execution_count": 6,
   "metadata": {},
   "outputs": [],
   "source": [
    "import matplotlib.pyplot as plt\n",
    "%matplotlib inline "
   ]
  },
  {
   "cell_type": "code",
   "execution_count": 7,
   "metadata": {},
   "outputs": [],
   "source": [
    "#valW = 16\n",
    "#valH = 12\n",
    "#fig, ax = plt.subplots(figsize=(valW,valH))\n",
    "#bp = dfValuesHistory.groupby('AddrStreet').plot(x='DateRetrieved',y='Price',ax=ax)\n",
    "#ax.legend_ = None\n",
    "#plt.title(\"Plot of House Prices Over Time\")"
   ]
  },
  {
   "cell_type": "code",
   "execution_count": 8,
   "metadata": {},
   "outputs": [
    {
     "name": "stdout",
     "output_type": "stream",
     "text": [
      "ElementaryID           float64\n",
      "CountHomes               int64\n",
      "DateMin         datetime64[ns]\n",
      "DateMax         datetime64[ns]\n",
      "PriceMin                 int64\n",
      "PriceMax                 int64\n",
      "dtype: object\n"
     ]
    }
   ],
   "source": [
    "dfSummary = dfValuesHistory.drop_duplicates(['AddrStreet','ElementaryID'],keep='first')\n",
    "dfCnts = dfSummary.groupby(['ElementaryID']).count()['AddrStreet'].to_frame().reset_index().sort_values(['AddrStreet'],ascending=False)\n",
    "dfCnts.columns = ['ElementaryID','CountHomes']\n",
    "dfDRMin = dfSummary.groupby(['ElementaryID']).min()['DateRetrieved'].to_frame().reset_index()\n",
    "dfDRMin.columns = ['ElementaryID','DateMin']\n",
    "dfDRMax = dfSummary.groupby(['ElementaryID']).max()['DateRetrieved'].to_frame().reset_index()\n",
    "dfDRMax.columns = ['ElementaryID','DateMax']\n",
    "dfPriceMin = dfSummary.groupby(['ElementaryID']).min()['Price'].to_frame().reset_index()\n",
    "dfPriceMin.columns = ['ElementaryID','PriceMin']\n",
    "dfPriceMax = dfSummary.groupby(['ElementaryID']).max()['Price'].to_frame().reset_index()\n",
    "dfPriceMax.columns = ['ElementaryID','PriceMax']\n",
    "dfCnts = pd.merge(left=dfCnts,right=dfDRMin,on='ElementaryID',how='left')\n",
    "dfCnts = pd.merge(left=dfCnts,right=dfDRMax,on='ElementaryID',how='left')\n",
    "dfCnts = pd.merge(left=dfCnts,right=dfPriceMin,on='ElementaryID',how='left')\n",
    "dfCnts = pd.merge(left=dfCnts,right=dfPriceMax,on='ElementaryID',how='left')\n",
    "print(dfCnts.dtypes)"
   ]
  },
  {
   "cell_type": "code",
   "execution_count": 9,
   "metadata": {},
   "outputs": [
    {
     "name": "stdout",
     "output_type": "stream",
     "text": [
      "(29, 25)\n"
     ]
    }
   ],
   "source": [
    "dfFinal = pd.merge(left=dfRaw,right=dfCnts,left_on='ID',right_on='ElementaryID',how='left')\n",
    "print(dfFinal.shape)"
   ]
  },
  {
   "cell_type": "code",
   "execution_count": 10,
   "metadata": {
    "scrolled": false
   },
   "outputs": [],
   "source": [
    "dfFinal.to_excel('./FinalCnts.xlsx')"
   ]
  },
  {
   "cell_type": "code",
   "execution_count": null,
   "metadata": {},
   "outputs": [],
   "source": []
  }
 ],
 "metadata": {
  "kernelspec": {
   "display_name": "Python 3",
   "language": "python",
   "name": "python3"
  },
  "language_info": {
   "codemirror_mode": {
    "name": "ipython",
    "version": 3
   },
   "file_extension": ".py",
   "mimetype": "text/x-python",
   "name": "python",
   "nbconvert_exporter": "python",
   "pygments_lexer": "ipython3",
   "version": "3.6.5"
  }
 },
 "nbformat": 4,
 "nbformat_minor": 2
}
